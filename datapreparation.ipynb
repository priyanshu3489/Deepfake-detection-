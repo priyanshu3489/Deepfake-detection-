{
  "nbformat": 4,
  "nbformat_minor": 0,
  "metadata": {
    "colab": {
      "provenance": [],
      "include_colab_link": true
    },
    "kernelspec": {
      "name": "python3",
      "display_name": "Python 3"
    },
    "language_info": {
      "name": "python"
    }
  },
  "cells": [
    {
      "cell_type": "markdown",
      "metadata": {
        "id": "view-in-github",
        "colab_type": "text"
      },
      "source": [
        "<a href=\"https://colab.research.google.com/github/priyanshu3489/Deepfake-detection-/blob/main/datapreparation.ipynb\" target=\"_parent\"><img src=\"https://colab.research.google.com/assets/colab-badge.svg\" alt=\"Open In Colab\"/></a>"
      ]
    },
    {
      "cell_type": "code",
      "execution_count": null,
      "metadata": {
        "id": "eMmboXeHOfQR",
        "colab": {
          "base_uri": "https://localhost:8080/"
        },
        "outputId": "b33baa37-291d-4aa6-9193-09a50d9565c5"
      },
      "outputs": [
        {
          "output_type": "stream",
          "name": "stdout",
          "text": [
            "Mounted at /content/drive\n"
          ]
        }
      ],
      "source": [
        "from google.colab import drive\n",
        "drive.mount('/content/drive')"
      ]
    },
    {
      "cell_type": "code",
      "source": [
        "import os\n",
        "import csv"
      ],
      "metadata": {
        "id": "tixhAjcUT1bL"
      },
      "execution_count": null,
      "outputs": []
    },
    {
      "cell_type": "code",
      "source": [
        "# Function to get list of videos and their labels\n",
        "def get_video_labels(folder_path, label):\n",
        "    videos = []\n",
        "    for filename in os.listdir(folder_path):\n",
        "        if filename.endswith(\".mp4\"):\n",
        "            video_id = os.path.splitext(filename)[0]  # Get video ID without extension\n",
        "            videos.append((video_id, label))\n",
        "    return videos"
      ],
      "metadata": {
        "id": "d-JLeCdsT3Zp"
      },
      "execution_count": null,
      "outputs": []
    },
    {
      "cell_type": "code",
      "source": [
        "# Paths to your folders\n",
        "real_data_path = \"/content/drive/MyDrive/Colab Notebooks/Celeb-DF/real_data/\"\n",
        "fake_data_path = \"/content/drive/MyDrive/Colab Notebooks/Celeb-DF/fake_data/\""
      ],
      "metadata": {
        "id": "JozthuZ7T4w_"
      },
      "execution_count": null,
      "outputs": []
    },
    {
      "cell_type": "code",
      "source": [
        "# Get list of videos and their labels\n",
        "real_videos = get_video_labels(real_data_path, 1)\n",
        "fake_videos = get_video_labels(fake_data_path, 0)\n"
      ],
      "metadata": {
        "id": "yiV9e04CT6IK",
        "colab": {
          "base_uri": "https://localhost:8080/",
          "height": 297
        },
        "outputId": "d335be38-c31b-4b64-8a38-c7340aba5191"
      },
      "execution_count": null,
      "outputs": [
        {
          "output_type": "error",
          "ename": "FileNotFoundError",
          "evalue": "[Errno 2] No such file or directory: '/content/drive/MyDrive/Colab Notebooks/Celeb-DF/real_data/'",
          "traceback": [
            "\u001b[0;31m---------------------------------------------------------------------------\u001b[0m",
            "\u001b[0;31mFileNotFoundError\u001b[0m                         Traceback (most recent call last)",
            "\u001b[0;32m<ipython-input-5-2324b85d921e>\u001b[0m in \u001b[0;36m<cell line: 2>\u001b[0;34m()\u001b[0m\n\u001b[1;32m      1\u001b[0m \u001b[0;31m# Get list of videos and their labels\u001b[0m\u001b[0;34m\u001b[0m\u001b[0;34m\u001b[0m\u001b[0m\n\u001b[0;32m----> 2\u001b[0;31m \u001b[0mreal_videos\u001b[0m \u001b[0;34m=\u001b[0m \u001b[0mget_video_labels\u001b[0m\u001b[0;34m(\u001b[0m\u001b[0mreal_data_path\u001b[0m\u001b[0;34m,\u001b[0m \u001b[0;36m1\u001b[0m\u001b[0;34m)\u001b[0m\u001b[0;34m\u001b[0m\u001b[0;34m\u001b[0m\u001b[0m\n\u001b[0m\u001b[1;32m      3\u001b[0m \u001b[0mfake_videos\u001b[0m \u001b[0;34m=\u001b[0m \u001b[0mget_video_labels\u001b[0m\u001b[0;34m(\u001b[0m\u001b[0mfake_data_path\u001b[0m\u001b[0;34m,\u001b[0m \u001b[0;36m0\u001b[0m\u001b[0;34m)\u001b[0m\u001b[0;34m\u001b[0m\u001b[0;34m\u001b[0m\u001b[0m\n",
            "\u001b[0;32m<ipython-input-3-52795a6dcc72>\u001b[0m in \u001b[0;36mget_video_labels\u001b[0;34m(folder_path, label)\u001b[0m\n\u001b[1;32m      2\u001b[0m \u001b[0;32mdef\u001b[0m \u001b[0mget_video_labels\u001b[0m\u001b[0;34m(\u001b[0m\u001b[0mfolder_path\u001b[0m\u001b[0;34m,\u001b[0m \u001b[0mlabel\u001b[0m\u001b[0;34m)\u001b[0m\u001b[0;34m:\u001b[0m\u001b[0;34m\u001b[0m\u001b[0;34m\u001b[0m\u001b[0m\n\u001b[1;32m      3\u001b[0m     \u001b[0mvideos\u001b[0m \u001b[0;34m=\u001b[0m \u001b[0;34m[\u001b[0m\u001b[0;34m]\u001b[0m\u001b[0;34m\u001b[0m\u001b[0;34m\u001b[0m\u001b[0m\n\u001b[0;32m----> 4\u001b[0;31m     \u001b[0;32mfor\u001b[0m \u001b[0mfilename\u001b[0m \u001b[0;32min\u001b[0m \u001b[0mos\u001b[0m\u001b[0;34m.\u001b[0m\u001b[0mlistdir\u001b[0m\u001b[0;34m(\u001b[0m\u001b[0mfolder_path\u001b[0m\u001b[0;34m)\u001b[0m\u001b[0;34m:\u001b[0m\u001b[0;34m\u001b[0m\u001b[0;34m\u001b[0m\u001b[0m\n\u001b[0m\u001b[1;32m      5\u001b[0m         \u001b[0;32mif\u001b[0m \u001b[0mfilename\u001b[0m\u001b[0;34m.\u001b[0m\u001b[0mendswith\u001b[0m\u001b[0;34m(\u001b[0m\u001b[0;34m\".mp4\"\u001b[0m\u001b[0;34m)\u001b[0m\u001b[0;34m:\u001b[0m\u001b[0;34m\u001b[0m\u001b[0;34m\u001b[0m\u001b[0m\n\u001b[1;32m      6\u001b[0m             \u001b[0mvideo_id\u001b[0m \u001b[0;34m=\u001b[0m \u001b[0mos\u001b[0m\u001b[0;34m.\u001b[0m\u001b[0mpath\u001b[0m\u001b[0;34m.\u001b[0m\u001b[0msplitext\u001b[0m\u001b[0;34m(\u001b[0m\u001b[0mfilename\u001b[0m\u001b[0;34m)\u001b[0m\u001b[0;34m[\u001b[0m\u001b[0;36m0\u001b[0m\u001b[0;34m]\u001b[0m  \u001b[0;31m# Get video ID without extension\u001b[0m\u001b[0;34m\u001b[0m\u001b[0;34m\u001b[0m\u001b[0m\n",
            "\u001b[0;31mFileNotFoundError\u001b[0m: [Errno 2] No such file or directory: '/content/drive/MyDrive/Colab Notebooks/Celeb-DF/real_data/'"
          ]
        }
      ]
    },
    {
      "cell_type": "code",
      "source": [
        "# Combine the lists\n",
        "videos = real_videos + fake_videos\n",
        "\n",
        "# Write to CSV file\n",
        "csv_filename = \"/content/drive/MyDrive/Colab Notebooks/videos_labels.csv\"\n",
        "with open(csv_filename, mode='w', newline='') as csv_file:\n",
        "    fieldnames = ['video_id', 'label']\n",
        "    writer = csv.DictWriter(csv_file, fieldnames=fieldnames)\n",
        "\n",
        "    writer.writeheader()\n",
        "    for video_id, label in videos:\n",
        "        writer.writerow({'video_id': video_id, 'label': label})\n",
        "\n",
        "print(f\"CSV file '{csv_filename}' has been created successfully.\")\n"
      ],
      "metadata": {
        "id": "NZbv_BvsPNdE"
      },
      "execution_count": null,
      "outputs": []
    },
    {
      "cell_type": "code",
      "source": [
        "#To get the average frame count\n",
        "import json\n",
        "import glob\n",
        "import numpy as np\n",
        "import cv2\n",
        "import copy\n",
        "#change the path accordingly\n",
        "video_files =  glob.glob('/content/drive/MyDrive/Colab Notebooks/real/*.mp4')\n",
        "\n",
        "frame_count = []\n",
        "for video_file in video_files:\n",
        "  cap = cv2.VideoCapture(video_file)\n",
        "  if(int(cap.get(cv2.CAP_PROP_FRAME_COUNT))<150):\n",
        "    video_files.remove(video_file)\n",
        "    continue\n",
        "  frame_count.append(int(cap.get(cv2.CAP_PROP_FRAME_COUNT)))\n",
        "print(\"frames\" , frame_count)\n",
        "print(\"Total number of videos: \" , len(frame_count))\n",
        "print('Average frame per video:',np.mean(frame_count))"
      ],
      "metadata": {
        "id": "gSxkKnVSSvqM"
      },
      "execution_count": null,
      "outputs": []
    },
    {
      "cell_type": "code",
      "source": [
        "import pandas as pd\n",
        "\n",
        "# Function to shuffle the CSV file\n",
        "def shuffle_csv(input_file_path, output_file_path):\n",
        "    # Read the CSV file into a DataFrame\n",
        "    df = pd.read_csv(input_file_path)\n",
        "\n",
        "    # Shuffle the DataFrame rows\n",
        "    df_shuffled = df.sample(frac=1).reset_index(drop=True)\n",
        "\n",
        "    # Save the shuffled DataFrame to a new CSV file\n",
        "    df_shuffled.to_csv(output_file_path, index=False)\n",
        "    print(f\"Shuffled CSV saved to {output_file_path}\")\n",
        "\n",
        "# Example usage\n",
        "input_file_path = '/content/drive/MyDrive/Colab Notebooks (1)/videos_labels.csv'  # Replace with your input file path\n",
        "output_file_path = '/content/drive/MyDrive/Colab Notebooks (1)/videos_labels.csv'  # Replace with your output file path\n",
        "shuffle_csv(input_file_path, output_file_path)\n"
      ],
      "metadata": {
        "id": "iV7fP28D3U_U"
      },
      "execution_count": null,
      "outputs": []
    }
  ]
}